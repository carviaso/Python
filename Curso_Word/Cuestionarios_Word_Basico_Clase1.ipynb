{
  "nbformat": 4,
  "nbformat_minor": 0,
  "metadata": {
    "colab": {
      "provenance": [],
      "authorship_tag": "ABX9TyNb3ImWMEByc6C4YbWnmRRt",
      "include_colab_link": true
    },
    "kernelspec": {
      "name": "python3",
      "display_name": "Python 3"
    },
    "language_info": {
      "name": "python"
    }
  },
  "cells": [
    {
      "cell_type": "markdown",
      "metadata": {
        "id": "view-in-github",
        "colab_type": "text"
      },
      "source": [
        "<a href=\"https://colab.research.google.com/github/carviaso/Python/blob/main/Cuestionarios_Word_Basico_Clase1.ipynb\" target=\"_parent\"><img src=\"https://colab.research.google.com/assets/colab-badge.svg\" alt=\"Open In Colab\"/></a>"
      ]
    },
    {
      "cell_type": "code",
      "execution_count": null,
      "metadata": {
        "id": "xlATwFlOBAq7"
      },
      "outputs": [],
      "source": []
    },
    {
      "cell_type": "code",
      "source": [
        "from docx import Document\n",
        "\n",
        "# Crear documento Word para cuestionarios del curso completo\n",
        "doc = Document()\n",
        "doc.add_heading('Curso de Microsoft Word Básico', 0)\n",
        "doc.add_heading('Cuestionarios de Validación de Conocimientos', level=1)\n",
        "\n",
        "# Datos por clase\n",
        "clases = {\n",
        "    \"Clase 1: Interfaz de Word\": [\n",
        "        (\"¿Cuál es la función de la cinta de opciones en Word?\", [\"a) Guardar el documento\", \"b) Mostrar herramientas organizadas en pestañas\", \"c) Imprimir el documento\", \"d) Escribir comentarios\"]),\n",
        "        (\"¿Dónde se encuentra el botón para guardar un documento?\", [\"a) Pestaña Inicio\", \"b) Barra de herramientas de acceso rápido\", \"c) Área de trabajo\", \"d) Pestaña Insertar\"]),\n",
        "        (\"La barra donde puedes cambiar el tipo y tamaño de fuente se llama:\", [\"a) Barra de estado\", \"b) Panel de navegación\", \"c) Grupo de fuente\", \"d) Barra de herramientas\"]),\n",
        "        (\"¿Qué función tiene la vista previa del documento?\", [\"a) Insertar gráficos\", \"b) Ver cómo se verá el documento al imprimirlo\", \"c) Crear una copia\", \"d) Cambiar idioma\"]),\n",
        "        \"Verdadero o Falso: La cinta de opciones se puede minimizar.\",\n",
        "        \"Verdadero o Falso: La barra de estado muestra número de páginas y palabras.\",\n",
        "        \"Verdadero o Falso: La pestaña Diseño permite insertar imágenes.\",\n",
        "        \"Verdadero o Falso: Puedes personalizar la barra de herramientas de acceso rápido.\",\n",
        "        \"Menciona tres elementos que puedes encontrar en la interfaz de Word.\",\n",
        "        \"¿Para qué sirve la pestaña Archivo?\"\n",
        "    ]\n",
        "}\n",
        "\n",
        "# Agregar contenido por clase\n",
        "for clase, preguntas in clases.items():\n",
        "    doc.add_page_break()\n",
        "    doc.add_heading(clase, level=1)\n",
        "    for item in preguntas:\n",
        "        if isinstance(item, tuple):\n",
        "            pregunta, opciones = item\n",
        "            doc.add_paragraph(pregunta, style='List Number')\n",
        "            for op in opciones:\n",
        "                doc.add_paragraph(op, style='List Bullet')\n",
        "        else:\n",
        "            doc.add_paragraph(item, style='List Number')\n",
        "\n",
        "# Guardar el archivo\n",
        "file_path = \"/Cuestionarios_Word_Basico_Clase1.docx\"\n",
        "doc.save(file_path)\n",
        "file_path\n"
      ],
      "metadata": {
        "colab": {
          "base_uri": "https://localhost:8080/",
          "height": 384
        },
        "id": "T8zCJM46BOVB",
        "outputId": "0de59919-65e8-4cdf-a908-292765913680"
      },
      "execution_count": 1,
      "outputs": [
        {
          "output_type": "error",
          "ename": "ModuleNotFoundError",
          "evalue": "No module named 'docx'",
          "traceback": [
            "\u001b[0;31m---------------------------------------------------------------------------\u001b[0m",
            "\u001b[0;31mModuleNotFoundError\u001b[0m                       Traceback (most recent call last)",
            "\u001b[0;32m<ipython-input-1-81d9348eb664>\u001b[0m in \u001b[0;36m<cell line: 0>\u001b[0;34m()\u001b[0m\n\u001b[0;32m----> 1\u001b[0;31m \u001b[0;32mfrom\u001b[0m \u001b[0mdocx\u001b[0m \u001b[0;32mimport\u001b[0m \u001b[0mDocument\u001b[0m\u001b[0;34m\u001b[0m\u001b[0;34m\u001b[0m\u001b[0m\n\u001b[0m\u001b[1;32m      2\u001b[0m \u001b[0;34m\u001b[0m\u001b[0m\n\u001b[1;32m      3\u001b[0m \u001b[0;31m# Crear documento Word para cuestionarios del curso completo\u001b[0m\u001b[0;34m\u001b[0m\u001b[0;34m\u001b[0m\u001b[0m\n\u001b[1;32m      4\u001b[0m \u001b[0mdoc\u001b[0m \u001b[0;34m=\u001b[0m \u001b[0mDocument\u001b[0m\u001b[0;34m(\u001b[0m\u001b[0;34m)\u001b[0m\u001b[0;34m\u001b[0m\u001b[0;34m\u001b[0m\u001b[0m\n\u001b[1;32m      5\u001b[0m \u001b[0mdoc\u001b[0m\u001b[0;34m.\u001b[0m\u001b[0madd_heading\u001b[0m\u001b[0;34m(\u001b[0m\u001b[0;34m'Curso de Microsoft Word Básico'\u001b[0m\u001b[0;34m,\u001b[0m \u001b[0;36m0\u001b[0m\u001b[0;34m)\u001b[0m\u001b[0;34m\u001b[0m\u001b[0;34m\u001b[0m\u001b[0m\n",
            "\u001b[0;31mModuleNotFoundError\u001b[0m: No module named 'docx'",
            "",
            "\u001b[0;31m---------------------------------------------------------------------------\u001b[0;32m\nNOTE: If your import is failing due to a missing package, you can\nmanually install dependencies using either !pip or !apt.\n\nTo view examples of installing some common dependencies, click the\n\"Open Examples\" button below.\n\u001b[0;31m---------------------------------------------------------------------------\u001b[0m\n"
          ],
          "errorDetails": {
            "actions": [
              {
                "action": "open_url",
                "actionText": "Open Examples",
                "url": "/notebooks/snippets/importing_libraries.ipynb"
              }
            ]
          }
        }
      ]
    }
  ]
}
