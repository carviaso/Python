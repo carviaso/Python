{
 "cells": [
  {
   "cell_type": "markdown",
   "metadata": {},
   "source": [
    "### API Calls\n",
    "\n",
    "```python\n",
    "# Example\n",
    "import requests\n",
    "url = \"https://api.spacexdata.com/v4/launches/upcoming\"\n",
    "r = requests.get(url).json()\n",
    "r\n",
    "```\n",
    "\n",
    "Exercise:\n",
    "1. Pick your favourite API from the list below\n",
    "2. Take a look at the documentation. Look for the URL where you can get the data.\n",
    "3. Make an API call (similar to the example above)\n",
    "4. Inpsect the results in `r`\n",
    "5. *Optional*: to print only information you are interested in. You can use the `.keys()` and `.values()` methods to inspect a `dictionary`. If you retrieved a `list` of dictionaries, you could loop through the results.\n",
    "6. Do the same exercise for another API in the list\n",
    "\n",
    "List of public APIs:\n",
    "\n",
    "| Name               | URL                                    |\n",
    "|:-------------------|:---------------------------------------|\n",
    "| Exchange Rates API | https://exchangeratesapi.io            |\n",
    "| Open Brewery DB    | https://www.openbrewerydb.org          |\n",
    "| Open Library API   | https://openlibrary.org/developers/api |\n",
    "| Pokemon API        | https://pokeapi.co                     |\n",
    "| SpaceX API         | https://github.com/r-spacex/SpaceX-API |\n",
    "| Star Wars API      | https://swapi.dev                      |\n",
    "| Weather API        | https://www.metaweather.com/api/       |\n",
    "\n",
    "\n",
    "\n",
    "*Extra challenge*: Many online tools offer REST API access to their product. For example, [HubSpot](https://developers.hubspot.com/docs/api/overview), [Dropbox](https://github.com/dropbox/dropbox-sdk-python), [Trello](https://developer.atlassian.com/cloud/trello/guides/rest-api/api-introduction/) and many others. Search the internet for APIs of the tools you are using. Most often, you will need to authenticate with an API key. Explore the APIs documentation for the authentication process. Can you retrieve your data from these tools?"
   ]
  },
  {
   "cell_type": "code",
   "execution_count": null,
   "id": "d3329eec",
   "metadata": {},
   "outputs": [],
   "source": []
  }
 ],
 "metadata": {
  "kernelspec": {
   "display_name": "Python 3 (ipykernel)",
   "language": "python",
   "name": "python3"
  },
  "language_info": {
   "codemirror_mode": {
    "name": "ipython",
    "version": 3
   },
   "file_extension": ".py",
   "mimetype": "text/x-python",
   "name": "python",
   "nbconvert_exporter": "python",
   "pygments_lexer": "ipython3",
   "version": "3.9.13"
  }
 },
 "nbformat": 4,
 "nbformat_minor": 5
}
