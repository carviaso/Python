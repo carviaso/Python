{
 "cells": [
  {
   "attachments": {},
   "cell_type": "markdown",
   "id": "eb11d7a8",
   "metadata": {},
   "source": [
    "# Indicadores Economicos\n",
    "### Created on Wed Nov 16 18:24:45 2022\n",
    "### @author: Carlos Viales\n",
    "#### https://gee.bccr.fi.cr/Indicadores/Suscripciones/WS/wsindicadoreseconomicos.asmx/ObtenerIndicadoresEconomicosXML?Indicador=string&FechaInicio=string&FechaFinal=string&Nombre=string&SubNiveles=string&CorreoElectronico=string&Token=string\n"
   ]
  },
  {
   "attachments": {},
   "cell_type": "markdown",
   "id": "d6fddf3c",
   "metadata": {},
   "source": [
    "### Enviroment\n",
    "\n",
    "``` \n",
    "python -m venv env\n",
    "python.exe -m pip install --upgrade pip\n",
    "```\n",
    "\n",
    "### install \n",
    "---\n",
    "``` \n",
    "pip install pandas plotly requests\n",
    "pip install wheel\n",
    "pip install BeautifulSoup4\n",
    "python -m pip install beautifulsoup4\n",
    "```\n",
    "\n",
    "[Informacion de Request](https://realpython.com/python-requests/)\n"
   ]
  },
  {
   "attachments": {},
   "cell_type": "markdown",
   "id": "ef3fab74",
   "metadata": {},
   "source": [
    "## Install\n",
    "``` \n",
    "python -m venv env\n",
    "```"
   ]
  },
  {
   "cell_type": "code",
   "execution_count": null,
   "id": "6c32d361",
   "metadata": {},
   "outputs": [],
   "source": [
    "# imports of Libraries\n",
    "import pandas as pd\n",
    "import requests\n",
    "from bs4 import BeautifulSoup\n",
    "# from datetime import *\n",
    "from dateutil.parser import *\n",
    "\n",
    "import plotly.express as px"
   ]
  },
  {
   "cell_type": "code",
   "execution_count": null,
   "id": "85fbf58d",
   "metadata": {},
   "outputs": [
    {
     "name": "stdout",
     "output_type": "stream",
     "text": [
      "16\n"
     ]
    }
   ],
   "source": [
    "# Load web / WebAPI\n",
    "web = f'https://gee.bccr.fi.cr/Indicadores/Suscripciones/WS/wsindicadoreseconomicos.asmx?WSDL'\n",
    "web = f'https://gee.bccr.fi.cr/Indicadores/Suscripciones/WS/wsindicadoreseconomicos.asmx'\n",
    "\n",
    "# Constantes de tipo de cambio\n",
    "compra = 317\n",
    "venta = 318\n",
    "FechaInicio = '1/11/2022'\n",
    "FechaFinal = '16/11/2022'\n",
    "token = '4MIISICGIA'\n",
    "correo = 'carviaso@gmail.com'\n",
    "\n",
    "# parametros\n",
    "ind_econom_func = f'/ObtenerIndicadoresEconomicos?Indicador={compra}&FechaInicio={FechaInicio}&FechaFinal={FechaFinal}&Nombre={compra}&SubNiveles=S&CorreoElectronico={correo}&Token={token}'\n",
    "\n",
    "#print(web+ind_econom_func)\n",
    "\n",
    "response = requests.get(web+ind_econom_func)\n",
    "content = response.text\n",
    "\n",
    "#lxml o html o html.parser\n",
    "soup = BeautifulSoup(content, 'lxml') \n",
    "\n",
    "# -----------------------------------------------------------------------------------------\n",
    "# filtrando los datos\n",
    "indicadoreconomic = soup.find_all('ingc011_cat_indicadoreconomic')\n",
    "\n",
    "# definiendo listas\n",
    "fecha_indic =[]\n",
    "valor = []\n",
    "\n",
    "print(len(indicadoreconomic))\n",
    "for indic in indicadoreconomic:\n",
    "    des_fecha = indic.find('des_fecha').get_text().strip()\n",
    "    num_valor = indic.find('num_valor').get_text().strip()\n",
    "    \n",
    "    fecha_indic.append(des_fecha)\n",
    "    valor.append(num_valor)\n",
    "    \n",
    "    # print(type(parse(des_fecha)))\n",
    "    #now = parse(des_fecha)\n",
    "    \n",
    "    #print(now)\n",
    "    #print(f'Fecha : {des_fecha} - num_valor : {num_valor}')    \n",
    "    #print()\n",
    "\n",
    "# Generando dicionario\n",
    "dict_indicadores = {'fecha' : fecha_indic, 'valor' : valor }\n",
    "\n",
    "# Convirtiendo a DataFrame\n",
    "df_indicadores = pd.DataFrame(dict_indicadores)\n",
    "\n",
    "# Creando los datos de indicadores Economicos en CSV\n",
    "#df_indicadores.to_csv('indicadores_economicos_data.csv',index=False)"
   ]
  },
  {
   "cell_type": "code",
   "execution_count": null,
   "id": "130ea0b9",
   "metadata": {},
   "outputs": [
    {
     "name": "stdout",
     "output_type": "stream",
     "text": [
      "                        fecha         valor\n",
      "0   2022-11-01T00:00:00-06:00  615.01000000\n",
      "1   2022-11-02T00:00:00-06:00  614.26000000\n",
      "2   2022-11-03T00:00:00-06:00  615.40000000\n",
      "3   2022-11-04T00:00:00-06:00  622.89000000\n",
      "4   2022-11-05T00:00:00-06:00  619.22000000\n",
      "5   2022-11-06T00:00:00-06:00  619.22000000\n",
      "6   2022-11-07T00:00:00-06:00  619.22000000\n",
      "7   2022-11-08T00:00:00-06:00  614.30000000\n",
      "8   2022-11-09T00:00:00-06:00  615.50000000\n",
      "9   2022-11-10T00:00:00-06:00  610.96000000\n",
      "10  2022-11-11T00:00:00-06:00  608.79000000\n",
      "11  2022-11-12T00:00:00-06:00  605.87000000\n",
      "12  2022-11-13T00:00:00-06:00  605.87000000\n",
      "13  2022-11-14T00:00:00-06:00  605.87000000\n",
      "14  2022-11-15T00:00:00-06:00  610.30000000\n",
      "15  2022-11-16T00:00:00-06:00  609.93000000\n"
     ]
    }
   ],
   "source": [
    "print(df_indicadores)"
   ]
  },
  {
   "cell_type": "code",
   "execution_count": null,
   "id": "ab10ef70",
   "metadata": {},
   "outputs": [
    {
     "ename": "ValueError",
     "evalue": "Value of 'color' is not the name of a column in 'data_frame'. Expected one of ['fecha', 'valor'] but received: State/UnionTerritory",
     "output_type": "error",
     "traceback": [
      "\u001b[1;31m---------------------------------------------------------------------------\u001b[0m",
      "\u001b[1;31mValueError\u001b[0m                                Traceback (most recent call last)",
      "\u001b[1;32m~\\AppData\\Local\\Temp\\ipykernel_4908\\86783055.py\u001b[0m in \u001b[0;36m<module>\u001b[1;34m\u001b[0m\n\u001b[0;32m      1\u001b[0m \u001b[1;31m# Plot the scatterplot using Plotly. We ploy y vs x (#Confirmed vs Date)\u001b[0m\u001b[1;33m\u001b[0m\u001b[1;33m\u001b[0m\u001b[0m\n\u001b[1;32m----> 2\u001b[1;33m \u001b[0mfig\u001b[0m \u001b[1;33m=\u001b[0m \u001b[0mpx\u001b[0m\u001b[1;33m.\u001b[0m\u001b[0mscatter\u001b[0m\u001b[1;33m(\u001b[0m\u001b[0mdf_indicadores\u001b[0m\u001b[1;33m,\u001b[0m \u001b[0mx\u001b[0m\u001b[1;33m=\u001b[0m\u001b[1;34m'fecha'\u001b[0m\u001b[1;33m,\u001b[0m \u001b[0my\u001b[0m\u001b[1;33m=\u001b[0m\u001b[1;34m'valor'\u001b[0m\u001b[1;33m,\u001b[0m \u001b[0mcolor\u001b[0m\u001b[1;33m=\u001b[0m\u001b[1;34m'State/UnionTerritory'\u001b[0m\u001b[1;33m)\u001b[0m\u001b[1;33m\u001b[0m\u001b[1;33m\u001b[0m\u001b[0m\n\u001b[0m\u001b[0;32m      3\u001b[0m \u001b[0mfig\u001b[0m\u001b[1;33m.\u001b[0m\u001b[0mupdate_traces\u001b[0m\u001b[1;33m(\u001b[0m\u001b[0mmode\u001b[0m\u001b[1;33m=\u001b[0m\u001b[1;34m'markers+lines'\u001b[0m\u001b[1;33m)\u001b[0m\u001b[1;33m\u001b[0m\u001b[1;33m\u001b[0m\u001b[0m\n\u001b[0;32m      4\u001b[0m \u001b[0mfig\u001b[0m\u001b[1;33m.\u001b[0m\u001b[0mshow\u001b[0m\u001b[1;33m(\u001b[0m\u001b[1;33m)\u001b[0m\u001b[1;33m\u001b[0m\u001b[1;33m\u001b[0m\u001b[0m\n",
      "\u001b[1;32m~\\anaconda3\\lib\\site-packages\\plotly\\express\\_chart_types.py\u001b[0m in \u001b[0;36mscatter\u001b[1;34m(data_frame, x, y, color, symbol, size, hover_name, hover_data, custom_data, text, facet_row, facet_col, facet_col_wrap, facet_row_spacing, facet_col_spacing, error_x, error_x_minus, error_y, error_y_minus, animation_frame, animation_group, category_orders, labels, orientation, color_discrete_sequence, color_discrete_map, color_continuous_scale, range_color, color_continuous_midpoint, symbol_sequence, symbol_map, opacity, size_max, marginal_x, marginal_y, trendline, trendline_options, trendline_color_override, trendline_scope, log_x, log_y, range_x, range_y, render_mode, title, template, width, height)\u001b[0m\n\u001b[0;32m     64\u001b[0m     \u001b[0mmark\u001b[0m \u001b[1;32min\u001b[0m \u001b[1;36m2\u001b[0m\u001b[0mD\u001b[0m \u001b[0mspace\u001b[0m\u001b[1;33m.\u001b[0m\u001b[1;33m\u001b[0m\u001b[1;33m\u001b[0m\u001b[0m\n\u001b[0;32m     65\u001b[0m     \"\"\"\n\u001b[1;32m---> 66\u001b[1;33m     \u001b[1;32mreturn\u001b[0m \u001b[0mmake_figure\u001b[0m\u001b[1;33m(\u001b[0m\u001b[0margs\u001b[0m\u001b[1;33m=\u001b[0m\u001b[0mlocals\u001b[0m\u001b[1;33m(\u001b[0m\u001b[1;33m)\u001b[0m\u001b[1;33m,\u001b[0m \u001b[0mconstructor\u001b[0m\u001b[1;33m=\u001b[0m\u001b[0mgo\u001b[0m\u001b[1;33m.\u001b[0m\u001b[0mScatter\u001b[0m\u001b[1;33m)\u001b[0m\u001b[1;33m\u001b[0m\u001b[1;33m\u001b[0m\u001b[0m\n\u001b[0m\u001b[0;32m     67\u001b[0m \u001b[1;33m\u001b[0m\u001b[0m\n\u001b[0;32m     68\u001b[0m \u001b[1;33m\u001b[0m\u001b[0m\n",
      "\u001b[1;32m~\\anaconda3\\lib\\site-packages\\plotly\\express\\_core.py\u001b[0m in \u001b[0;36mmake_figure\u001b[1;34m(args, constructor, trace_patch, layout_patch)\u001b[0m\n\u001b[0;32m   1988\u001b[0m     \u001b[0mapply_default_cascade\u001b[0m\u001b[1;33m(\u001b[0m\u001b[0margs\u001b[0m\u001b[1;33m)\u001b[0m\u001b[1;33m\u001b[0m\u001b[1;33m\u001b[0m\u001b[0m\n\u001b[0;32m   1989\u001b[0m \u001b[1;33m\u001b[0m\u001b[0m\n\u001b[1;32m-> 1990\u001b[1;33m     \u001b[0margs\u001b[0m \u001b[1;33m=\u001b[0m \u001b[0mbuild_dataframe\u001b[0m\u001b[1;33m(\u001b[0m\u001b[0margs\u001b[0m\u001b[1;33m,\u001b[0m \u001b[0mconstructor\u001b[0m\u001b[1;33m)\u001b[0m\u001b[1;33m\u001b[0m\u001b[1;33m\u001b[0m\u001b[0m\n\u001b[0m\u001b[0;32m   1991\u001b[0m     \u001b[1;32mif\u001b[0m \u001b[0mconstructor\u001b[0m \u001b[1;32min\u001b[0m \u001b[1;33m[\u001b[0m\u001b[0mgo\u001b[0m\u001b[1;33m.\u001b[0m\u001b[0mTreemap\u001b[0m\u001b[1;33m,\u001b[0m \u001b[0mgo\u001b[0m\u001b[1;33m.\u001b[0m\u001b[0mSunburst\u001b[0m\u001b[1;33m,\u001b[0m \u001b[0mgo\u001b[0m\u001b[1;33m.\u001b[0m\u001b[0mIcicle\u001b[0m\u001b[1;33m]\u001b[0m \u001b[1;32mand\u001b[0m \u001b[0margs\u001b[0m\u001b[1;33m[\u001b[0m\u001b[1;34m\"path\"\u001b[0m\u001b[1;33m]\u001b[0m \u001b[1;32mis\u001b[0m \u001b[1;32mnot\u001b[0m \u001b[1;32mNone\u001b[0m\u001b[1;33m:\u001b[0m\u001b[1;33m\u001b[0m\u001b[1;33m\u001b[0m\u001b[0m\n\u001b[0;32m   1992\u001b[0m         \u001b[0margs\u001b[0m \u001b[1;33m=\u001b[0m \u001b[0mprocess_dataframe_hierarchy\u001b[0m\u001b[1;33m(\u001b[0m\u001b[0margs\u001b[0m\u001b[1;33m)\u001b[0m\u001b[1;33m\u001b[0m\u001b[1;33m\u001b[0m\u001b[0m\n",
      "\u001b[1;32m~\\anaconda3\\lib\\site-packages\\plotly\\express\\_core.py\u001b[0m in \u001b[0;36mbuild_dataframe\u001b[1;34m(args, constructor)\u001b[0m\n\u001b[0;32m   1403\u001b[0m     \u001b[1;31m# now that things have been prepped, we do the systematic rewriting of `args`\u001b[0m\u001b[1;33m\u001b[0m\u001b[1;33m\u001b[0m\u001b[0m\n\u001b[0;32m   1404\u001b[0m \u001b[1;33m\u001b[0m\u001b[0m\n\u001b[1;32m-> 1405\u001b[1;33m     df_output, wide_id_vars = process_args_into_dataframe(\n\u001b[0m\u001b[0;32m   1406\u001b[0m         \u001b[0margs\u001b[0m\u001b[1;33m,\u001b[0m \u001b[0mwide_mode\u001b[0m\u001b[1;33m,\u001b[0m \u001b[0mvar_name\u001b[0m\u001b[1;33m,\u001b[0m \u001b[0mvalue_name\u001b[0m\u001b[1;33m\u001b[0m\u001b[1;33m\u001b[0m\u001b[0m\n\u001b[0;32m   1407\u001b[0m     )\n",
      "\u001b[1;32m~\\anaconda3\\lib\\site-packages\\plotly\\express\\_core.py\u001b[0m in \u001b[0;36mprocess_args_into_dataframe\u001b[1;34m(args, wide_mode, var_name, value_name)\u001b[0m\n\u001b[0;32m   1205\u001b[0m                         \u001b[1;32mif\u001b[0m \u001b[0margument\u001b[0m \u001b[1;33m==\u001b[0m \u001b[1;34m\"index\"\u001b[0m\u001b[1;33m:\u001b[0m\u001b[1;33m\u001b[0m\u001b[1;33m\u001b[0m\u001b[0m\n\u001b[0;32m   1206\u001b[0m                             \u001b[0merr_msg\u001b[0m \u001b[1;33m+=\u001b[0m \u001b[1;34m\"\\n To use the index, pass it in directly as `df.index`.\"\u001b[0m\u001b[1;33m\u001b[0m\u001b[1;33m\u001b[0m\u001b[0m\n\u001b[1;32m-> 1207\u001b[1;33m                         \u001b[1;32mraise\u001b[0m \u001b[0mValueError\u001b[0m\u001b[1;33m(\u001b[0m\u001b[0merr_msg\u001b[0m\u001b[1;33m)\u001b[0m\u001b[1;33m\u001b[0m\u001b[1;33m\u001b[0m\u001b[0m\n\u001b[0m\u001b[0;32m   1208\u001b[0m                 \u001b[1;32melif\u001b[0m \u001b[0mlength\u001b[0m \u001b[1;32mand\u001b[0m \u001b[0mlen\u001b[0m\u001b[1;33m(\u001b[0m\u001b[0mdf_input\u001b[0m\u001b[1;33m[\u001b[0m\u001b[0margument\u001b[0m\u001b[1;33m]\u001b[0m\u001b[1;33m)\u001b[0m \u001b[1;33m!=\u001b[0m \u001b[0mlength\u001b[0m\u001b[1;33m:\u001b[0m\u001b[1;33m\u001b[0m\u001b[1;33m\u001b[0m\u001b[0m\n\u001b[0;32m   1209\u001b[0m                     raise ValueError(\n",
      "\u001b[1;31mValueError\u001b[0m: Value of 'color' is not the name of a column in 'data_frame'. Expected one of ['fecha', 'valor'] but received: State/UnionTerritory"
     ]
    }
   ],
   "source": [
    "# Plot the scatterplot using Plotly. We ploy y vs x (#Confirmed vs Date)\n",
    "fig = px.scatter(df_indicadores, x='fecha', y='valor', color='State/UnionTerritory')\n",
    "fig.update_traces(mode='markers+lines')\n",
    "fig.show()"
   ]
  },
  {
   "cell_type": "code",
   "execution_count": null,
   "id": "0f2eaeb4",
   "metadata": {},
   "outputs": [],
   "source": []
  }
 ],
 "metadata": {
  "kernelspec": {
   "display_name": "Python 3 (ipykernel)",
   "language": "python",
   "name": "python3"
  },
  "language_info": {
   "codemirror_mode": {
    "name": "ipython",
    "version": 3
   },
   "file_extension": ".py",
   "mimetype": "text/x-python",
   "name": "python",
   "nbconvert_exporter": "python",
   "pygments_lexer": "ipython3",
   "version": "3.9.13"
  }
 },
 "nbformat": 4,
 "nbformat_minor": 5
}
