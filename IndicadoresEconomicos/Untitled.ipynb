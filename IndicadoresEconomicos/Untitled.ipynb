{
 "cells": [
  {
   "cell_type": "code",
   "execution_count": null,
   "id": "a958b490",
   "metadata": {},
   "outputs": [
    {
     "name": "stdout",
     "output_type": "stream",
     "text": [
      "Dash is running on http://127.0.0.1:8050/\n",
      "\n",
      " * Serving Flask app \"__main__\" (lazy loading)\n",
      " * Environment: production\n",
      "\u001b[31m   WARNING: This is a development server. Do not use it in a production deployment.\u001b[0m\n",
      "\u001b[2m   Use a production WSGI server instead.\u001b[0m\n",
      " * Debug mode: off\n"
     ]
    },
    {
     "name": "stderr",
     "output_type": "stream",
     "text": [
      " * Running on http://127.0.0.1:8050/ (Press CTRL+C to quit)\n"
     ]
    }
   ],
   "source": [
    "import dash\n",
    "from dash.dependencies import Output, Input\n",
    "import dash_core_components as dcc\n",
    "import dash_html_components as html\n",
    "import plotly\n",
    "import random\n",
    "import plotly.graph_objs as go\n",
    "from collections import deque\n",
    "\n",
    "X = deque(maxlen = 20)\n",
    "X.append(1)\n",
    "\n",
    "Y = deque(maxlen = 20)\n",
    "Y.append(1)\n",
    "\n",
    "app = dash.Dash(__name__)\n",
    "\n",
    "app.layout = html.Div(\n",
    "\t[\n",
    "\t\tdcc.Graph(id = 'live-graph', animate = True),\n",
    "\t\tdcc.Interval(\n",
    "\t\t\tid = 'graph-update',\n",
    "\t\t\tinterval = 1000,\n",
    "\t\t\tn_intervals = 0\n",
    "\t\t),\n",
    "\t]\n",
    ")\n",
    "\n",
    "@app.callback(\n",
    "\tOutput('live-graph', 'figure'),\n",
    "\t[ Input('graph-update', 'n_intervals') ]\n",
    ")\n",
    "\n",
    "def update_graph_scatter(n):\n",
    "\tX.append(X[-1]+1)\n",
    "\tY.append(Y[-1]+Y[-1] * random.uniform(-0.1,0.1))\n",
    "\n",
    "\tdata = plotly.graph_objs.Scatter(\n",
    "\t\t\tx=list(X),\n",
    "\t\t\ty=list(Y),\n",
    "\t\t\tname='Scatter',\n",
    "\t\t\tmode= 'lines+markers'\n",
    "\t)\n",
    "\n",
    "\treturn {'data': [data],\n",
    "\t\t\t'layout' : go.Layout(xaxis=dict(range=[min(X),max(X)]),yaxis = dict(range = [min(Y),max(Y)]),)}\n",
    "\n",
    "if __name__ == '__main__':\n",
    "\tapp.run_server()\n"
   ]
  },
  {
   "cell_type": "code",
   "execution_count": null,
   "id": "5f113717",
   "metadata": {},
   "outputs": [],
   "source": []
  }
 ],
 "metadata": {
  "kernelspec": {
   "display_name": "Python 3 (ipykernel)",
   "language": "python",
   "name": "python3"
  },
  "language_info": {
   "codemirror_mode": {
    "name": "ipython",
    "version": 3
   },
   "file_extension": ".py",
   "mimetype": "text/x-python",
   "name": "python",
   "nbconvert_exporter": "python",
   "pygments_lexer": "ipython3",
   "version": "3.9.13"
  }
 },
 "nbformat": 4,
 "nbformat_minor": 5
}
